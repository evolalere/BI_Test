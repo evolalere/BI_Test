{
 "cells": [
  {
   "cell_type": "code",
   "execution_count": 1,
   "metadata": {},
   "outputs": [],
   "source": [
    "import pandas as pd\n",
    "import numpy as np"
   ]
  },
  {
   "attachments": {},
   "cell_type": "markdown",
   "metadata": {},
   "source": [
    "### __Data exploration and preparation__"
   ]
  },
  {
   "attachments": {},
   "cell_type": "markdown",
   "metadata": {},
   "source": [
    "### Appointments Data"
   ]
  },
  {
   "cell_type": "code",
   "execution_count": 2,
   "metadata": {},
   "outputs": [
    {
     "data": {
      "text/html": [
       "<div>\n",
       "<style scoped>\n",
       "    .dataframe tbody tr th:only-of-type {\n",
       "        vertical-align: middle;\n",
       "    }\n",
       "\n",
       "    .dataframe tbody tr th {\n",
       "        vertical-align: top;\n",
       "    }\n",
       "\n",
       "    .dataframe thead th {\n",
       "        text-align: right;\n",
       "    }\n",
       "</style>\n",
       "<table border=\"1\" class=\"dataframe\">\n",
       "  <thead>\n",
       "    <tr style=\"text-align: right;\">\n",
       "      <th></th>\n",
       "      <th>appointment_id</th>\n",
       "      <th>practitioner_id</th>\n",
       "      <th>patient_id</th>\n",
       "      <th>clinic_id</th>\n",
       "      <th>appointment_date</th>\n",
       "    </tr>\n",
       "  </thead>\n",
       "  <tbody>\n",
       "    <tr>\n",
       "      <th>0</th>\n",
       "      <td>0004df0d-3df6-42be-9d68-b646a42a44bb</td>\n",
       "      <td>c7402157-ae44-45cc-b6a7-b348d5dbd417</td>\n",
       "      <td>158184</td>\n",
       "      <td>2</td>\n",
       "      <td>2022-12-22</td>\n",
       "    </tr>\n",
       "    <tr>\n",
       "      <th>1</th>\n",
       "      <td>000a978e-f134-47b3-ab9e-4f56084be38e</td>\n",
       "      <td>3ca4793d-065e-4112-b023-d1122a2a4b44</td>\n",
       "      <td>112887</td>\n",
       "      <td>2</td>\n",
       "      <td>2022-06-02</td>\n",
       "    </tr>\n",
       "    <tr>\n",
       "      <th>2</th>\n",
       "      <td>000c1615-0980-4933-9ad1-6f34bb5e188e</td>\n",
       "      <td>c7402157-ae44-45cc-b6a7-b348d5dbd417</td>\n",
       "      <td>141451</td>\n",
       "      <td>2</td>\n",
       "      <td>2022-10-18</td>\n",
       "    </tr>\n",
       "    <tr>\n",
       "      <th>3</th>\n",
       "      <td>000d8c91-e6a8-4404-bf8b-4951ed8ca1f2</td>\n",
       "      <td>2ea0ca2a-77fc-4447-b57c-62a6cb4d75a1</td>\n",
       "      <td>37516</td>\n",
       "      <td>1</td>\n",
       "      <td>2022-01-06</td>\n",
       "    </tr>\n",
       "    <tr>\n",
       "      <th>4</th>\n",
       "      <td>0015acc2-484c-491a-b455-0963835a31dd</td>\n",
       "      <td>ed1a5b13-3dc5-4212-b989-f59258b4410e</td>\n",
       "      <td>141833</td>\n",
       "      <td>2</td>\n",
       "      <td>2022-10-14</td>\n",
       "    </tr>\n",
       "  </tbody>\n",
       "</table>\n",
       "</div>"
      ],
      "text/plain": [
       "                         appointment_id                       practitioner_id  \\\n",
       "0  0004df0d-3df6-42be-9d68-b646a42a44bb  c7402157-ae44-45cc-b6a7-b348d5dbd417   \n",
       "1  000a978e-f134-47b3-ab9e-4f56084be38e  3ca4793d-065e-4112-b023-d1122a2a4b44   \n",
       "2  000c1615-0980-4933-9ad1-6f34bb5e188e  c7402157-ae44-45cc-b6a7-b348d5dbd417   \n",
       "3  000d8c91-e6a8-4404-bf8b-4951ed8ca1f2  2ea0ca2a-77fc-4447-b57c-62a6cb4d75a1   \n",
       "4  0015acc2-484c-491a-b455-0963835a31dd  ed1a5b13-3dc5-4212-b989-f59258b4410e   \n",
       "\n",
       "   patient_id  clinic_id appointment_date  \n",
       "0      158184          2       2022-12-22  \n",
       "1      112887          2       2022-06-02  \n",
       "2      141451          2       2022-10-18  \n",
       "3       37516          1       2022-01-06  \n",
       "4      141833          2       2022-10-14  "
      ]
     },
     "execution_count": 2,
     "metadata": {},
     "output_type": "execute_result"
    }
   ],
   "source": [
    "appointments = pd.read_csv('data/p21_bi_intern_test_appointments.csv')\n",
    "appointments.head()"
   ]
  },
  {
   "cell_type": "code",
   "execution_count": 3,
   "metadata": {},
   "outputs": [
    {
     "data": {
      "text/html": [
       "<div>\n",
       "<style scoped>\n",
       "    .dataframe tbody tr th:only-of-type {\n",
       "        vertical-align: middle;\n",
       "    }\n",
       "\n",
       "    .dataframe tbody tr th {\n",
       "        vertical-align: top;\n",
       "    }\n",
       "\n",
       "    .dataframe thead th {\n",
       "        text-align: right;\n",
       "    }\n",
       "</style>\n",
       "<table border=\"1\" class=\"dataframe\">\n",
       "  <thead>\n",
       "    <tr style=\"text-align: right;\">\n",
       "      <th></th>\n",
       "      <th>appointment_id</th>\n",
       "      <th>practitioner_id</th>\n",
       "      <th>patient_id</th>\n",
       "      <th>clinic_id</th>\n",
       "      <th>appointment_date</th>\n",
       "    </tr>\n",
       "  </thead>\n",
       "  <tbody>\n",
       "    <tr>\n",
       "      <th>3322</th>\n",
       "      <td>4bf4b2c0-6735-459f-a931-29474d0b1e5e</td>\n",
       "      <td>098431c3-1301-456e-9171-0026d20a3d62</td>\n",
       "      <td>22546</td>\n",
       "      <td>1</td>\n",
       "      <td>2022-01-01</td>\n",
       "    </tr>\n",
       "    <tr>\n",
       "      <th>4223</th>\n",
       "      <td>610b31be-8063-4a41-97d2-6cfe487d7640</td>\n",
       "      <td>098431c3-1301-456e-9171-0026d20a3d62</td>\n",
       "      <td>28430</td>\n",
       "      <td>1</td>\n",
       "      <td>2022-01-01</td>\n",
       "    </tr>\n",
       "  </tbody>\n",
       "</table>\n",
       "</div>"
      ],
      "text/plain": [
       "                            appointment_id  \\\n",
       "3322  4bf4b2c0-6735-459f-a931-29474d0b1e5e   \n",
       "4223  610b31be-8063-4a41-97d2-6cfe487d7640   \n",
       "\n",
       "                           practitioner_id  patient_id  clinic_id  \\\n",
       "3322  098431c3-1301-456e-9171-0026d20a3d62       22546          1   \n",
       "4223  098431c3-1301-456e-9171-0026d20a3d62       28430          1   \n",
       "\n",
       "     appointment_date  \n",
       "3322       2022-01-01  \n",
       "4223       2022-01-01  "
      ]
     },
     "execution_count": 3,
     "metadata": {},
     "output_type": "execute_result"
    }
   ],
   "source": [
    "# Checking if the data is for the whole year 2022\n",
    "\n",
    "appointments.sort_values('appointment_date', ascending = True).head(2)"
   ]
  },
  {
   "cell_type": "code",
   "execution_count": 4,
   "metadata": {},
   "outputs": [
    {
     "data": {
      "text/html": [
       "<div>\n",
       "<style scoped>\n",
       "    .dataframe tbody tr th:only-of-type {\n",
       "        vertical-align: middle;\n",
       "    }\n",
       "\n",
       "    .dataframe tbody tr th {\n",
       "        vertical-align: top;\n",
       "    }\n",
       "\n",
       "    .dataframe thead th {\n",
       "        text-align: right;\n",
       "    }\n",
       "</style>\n",
       "<table border=\"1\" class=\"dataframe\">\n",
       "  <thead>\n",
       "    <tr style=\"text-align: right;\">\n",
       "      <th></th>\n",
       "      <th>appointment_id</th>\n",
       "      <th>practitioner_id</th>\n",
       "      <th>patient_id</th>\n",
       "      <th>clinic_id</th>\n",
       "      <th>appointment_date</th>\n",
       "    </tr>\n",
       "  </thead>\n",
       "  <tbody>\n",
       "    <tr>\n",
       "      <th>8289</th>\n",
       "      <td>bfd2d7ff-34f6-4f66-b464-6dea6a4ccffc</td>\n",
       "      <td>45baf1d2-e066-4f40-8fc5-c61c08d4af4c</td>\n",
       "      <td>91833</td>\n",
       "      <td>1</td>\n",
       "      <td>2022-12-31</td>\n",
       "    </tr>\n",
       "    <tr>\n",
       "      <th>4368</th>\n",
       "      <td>64752c43-3b4b-478a-92c3-31f6e118813c</td>\n",
       "      <td>098431c3-1301-456e-9171-0026d20a3d62</td>\n",
       "      <td>24008</td>\n",
       "      <td>1</td>\n",
       "      <td>2022-12-31</td>\n",
       "    </tr>\n",
       "  </tbody>\n",
       "</table>\n",
       "</div>"
      ],
      "text/plain": [
       "                            appointment_id  \\\n",
       "8289  bfd2d7ff-34f6-4f66-b464-6dea6a4ccffc   \n",
       "4368  64752c43-3b4b-478a-92c3-31f6e118813c   \n",
       "\n",
       "                           practitioner_id  patient_id  clinic_id  \\\n",
       "8289  45baf1d2-e066-4f40-8fc5-c61c08d4af4c       91833          1   \n",
       "4368  098431c3-1301-456e-9171-0026d20a3d62       24008          1   \n",
       "\n",
       "     appointment_date  \n",
       "8289       2022-12-31  \n",
       "4368       2022-12-31  "
      ]
     },
     "execution_count": 4,
     "metadata": {},
     "output_type": "execute_result"
    }
   ],
   "source": [
    "appointments.sort_values('appointment_date', ascending = True).tail(2)"
   ]
  },
  {
   "cell_type": "code",
   "execution_count": 5,
   "metadata": {},
   "outputs": [
    {
     "data": {
      "text/plain": [
       "(11015, 5)"
      ]
     },
     "execution_count": 5,
     "metadata": {},
     "output_type": "execute_result"
    }
   ],
   "source": [
    "appointments.shape"
   ]
  },
  {
   "cell_type": "code",
   "execution_count": 6,
   "metadata": {},
   "outputs": [
    {
     "name": "stdout",
     "output_type": "stream",
     "text": [
      "<class 'pandas.core.frame.DataFrame'>\n",
      "RangeIndex: 11015 entries, 0 to 11014\n",
      "Data columns (total 5 columns):\n",
      " #   Column            Non-Null Count  Dtype \n",
      "---  ------            --------------  ----- \n",
      " 0   appointment_id    11015 non-null  object\n",
      " 1   practitioner_id   11015 non-null  object\n",
      " 2   patient_id        11015 non-null  int64 \n",
      " 3   clinic_id         11015 non-null  int64 \n",
      " 4   appointment_date  11015 non-null  object\n",
      "dtypes: int64(2), object(3)\n",
      "memory usage: 430.4+ KB\n"
     ]
    }
   ],
   "source": [
    "appointments.info()"
   ]
  },
  {
   "cell_type": "code",
   "execution_count": 7,
   "metadata": {},
   "outputs": [
    {
     "data": {
      "text/plain": [
       "0   2022-12-22\n",
       "1   2022-06-02\n",
       "Name: appointment_date, dtype: datetime64[ns]"
      ]
     },
     "execution_count": 7,
     "metadata": {},
     "output_type": "execute_result"
    }
   ],
   "source": [
    "# cCanging appointment_date from object to datetime\n",
    "\n",
    "appointments['appointment_date'] = pd.to_datetime(appointments['appointment_date'], format='%Y/%m/%d', utc=False)\n",
    "appointments.appointment_date.head(2)"
   ]
  },
  {
   "cell_type": "code",
   "execution_count": 8,
   "metadata": {},
   "outputs": [
    {
     "data": {
      "text/html": [
       "<div>\n",
       "<style scoped>\n",
       "    .dataframe tbody tr th:only-of-type {\n",
       "        vertical-align: middle;\n",
       "    }\n",
       "\n",
       "    .dataframe tbody tr th {\n",
       "        vertical-align: top;\n",
       "    }\n",
       "\n",
       "    .dataframe thead th {\n",
       "        text-align: right;\n",
       "    }\n",
       "</style>\n",
       "<table border=\"1\" class=\"dataframe\">\n",
       "  <thead>\n",
       "    <tr style=\"text-align: right;\">\n",
       "      <th></th>\n",
       "      <th>appointment_id</th>\n",
       "      <th>practitioner_id</th>\n",
       "      <th>patient_id</th>\n",
       "      <th>clinic_id</th>\n",
       "      <th>appointment_date</th>\n",
       "      <th>appointment_year_month</th>\n",
       "    </tr>\n",
       "  </thead>\n",
       "  <tbody>\n",
       "    <tr>\n",
       "      <th>0</th>\n",
       "      <td>0004df0d-3df6-42be-9d68-b646a42a44bb</td>\n",
       "      <td>c7402157-ae44-45cc-b6a7-b348d5dbd417</td>\n",
       "      <td>158184</td>\n",
       "      <td>2</td>\n",
       "      <td>2022-12-22</td>\n",
       "      <td>2022-12</td>\n",
       "    </tr>\n",
       "    <tr>\n",
       "      <th>1</th>\n",
       "      <td>000a978e-f134-47b3-ab9e-4f56084be38e</td>\n",
       "      <td>3ca4793d-065e-4112-b023-d1122a2a4b44</td>\n",
       "      <td>112887</td>\n",
       "      <td>2</td>\n",
       "      <td>2022-06-02</td>\n",
       "      <td>2022-06</td>\n",
       "    </tr>\n",
       "  </tbody>\n",
       "</table>\n",
       "</div>"
      ],
      "text/plain": [
       "                         appointment_id                       practitioner_id  \\\n",
       "0  0004df0d-3df6-42be-9d68-b646a42a44bb  c7402157-ae44-45cc-b6a7-b348d5dbd417   \n",
       "1  000a978e-f134-47b3-ab9e-4f56084be38e  3ca4793d-065e-4112-b023-d1122a2a4b44   \n",
       "\n",
       "   patient_id  clinic_id appointment_date appointment_year_month  \n",
       "0      158184          2       2022-12-22                2022-12  \n",
       "1      112887          2       2022-06-02                2022-06  "
      ]
     },
     "execution_count": 8,
     "metadata": {},
     "output_type": "execute_result"
    }
   ],
   "source": [
    "# Adding appointment year-month to the dataFrame\n",
    "\n",
    "appointments['appointment_year_month'] = pd.to_datetime(appointments['appointment_date']).dt.strftime('%Y-%m')\n",
    "appointments.head(2)"
   ]
  },
  {
   "cell_type": "code",
   "execution_count": 9,
   "metadata": {},
   "outputs": [
    {
     "data": {
      "text/plain": [
       "appointment_id            0\n",
       "practitioner_id           0\n",
       "patient_id                0\n",
       "clinic_id                 0\n",
       "appointment_date          0\n",
       "appointment_year_month    0\n",
       "dtype: int64"
      ]
     },
     "execution_count": 9,
     "metadata": {},
     "output_type": "execute_result"
    }
   ],
   "source": [
    "appointments.isnull().sum()"
   ]
  },
  {
   "cell_type": "code",
   "execution_count": 10,
   "metadata": {},
   "outputs": [
    {
     "data": {
      "text/plain": [
       "0"
      ]
     },
     "execution_count": 10,
     "metadata": {},
     "output_type": "execute_result"
    }
   ],
   "source": [
    "appointments.duplicated().sum()"
   ]
  },
  {
   "cell_type": "code",
   "execution_count": 11,
   "metadata": {},
   "outputs": [
    {
     "data": {
      "text/plain": [
       "11015"
      ]
     },
     "execution_count": 11,
     "metadata": {},
     "output_type": "execute_result"
    }
   ],
   "source": [
    "appointments['appointment_id'].nunique()"
   ]
  },
  {
   "cell_type": "code",
   "execution_count": 12,
   "metadata": {},
   "outputs": [
    {
     "data": {
      "text/plain": [
       "6"
      ]
     },
     "execution_count": 12,
     "metadata": {},
     "output_type": "execute_result"
    }
   ],
   "source": [
    "appointments['practitioner_id'].nunique()"
   ]
  },
  {
   "cell_type": "code",
   "execution_count": 13,
   "metadata": {},
   "outputs": [
    {
     "data": {
      "text/plain": [
       "3977"
      ]
     },
     "execution_count": 13,
     "metadata": {},
     "output_type": "execute_result"
    }
   ],
   "source": [
    "appointments['patient_id'].nunique()"
   ]
  },
  {
   "cell_type": "code",
   "execution_count": 14,
   "metadata": {},
   "outputs": [
    {
     "data": {
      "text/plain": [
       "2"
      ]
     },
     "execution_count": 14,
     "metadata": {},
     "output_type": "execute_result"
    }
   ],
   "source": [
    "appointments['clinic_id'].nunique()"
   ]
  },
  {
   "cell_type": "code",
   "execution_count": 15,
   "metadata": {},
   "outputs": [
    {
     "data": {
      "text/plain": [
       "294"
      ]
     },
     "execution_count": 15,
     "metadata": {},
     "output_type": "execute_result"
    }
   ],
   "source": [
    "appointments['appointment_date'].nunique()"
   ]
  },
  {
   "attachments": {},
   "cell_type": "markdown",
   "metadata": {},
   "source": [
    "### Revenue Data"
   ]
  },
  {
   "cell_type": "code",
   "execution_count": 16,
   "metadata": {},
   "outputs": [
    {
     "data": {
      "text/html": [
       "<div>\n",
       "<style scoped>\n",
       "    .dataframe tbody tr th:only-of-type {\n",
       "        vertical-align: middle;\n",
       "    }\n",
       "\n",
       "    .dataframe tbody tr th {\n",
       "        vertical-align: top;\n",
       "    }\n",
       "\n",
       "    .dataframe thead th {\n",
       "        text-align: right;\n",
       "    }\n",
       "</style>\n",
       "<table border=\"1\" class=\"dataframe\">\n",
       "  <thead>\n",
       "    <tr style=\"text-align: right;\">\n",
       "      <th></th>\n",
       "      <th>appointment_id</th>\n",
       "      <th>revenues</th>\n",
       "    </tr>\n",
       "  </thead>\n",
       "  <tbody>\n",
       "    <tr>\n",
       "      <th>0</th>\n",
       "      <td>68339e8c-c708-4042-ba21-263838e0487b</td>\n",
       "      <td>NaN</td>\n",
       "    </tr>\n",
       "    <tr>\n",
       "      <th>1</th>\n",
       "      <td>270bd629-028b-45b2-86a1-af8de97a7fd0</td>\n",
       "      <td>54.17</td>\n",
       "    </tr>\n",
       "    <tr>\n",
       "      <th>2</th>\n",
       "      <td>85c0b7cf-6e50-4683-88c4-9d6ea30f6500</td>\n",
       "      <td>20.67</td>\n",
       "    </tr>\n",
       "    <tr>\n",
       "      <th>3</th>\n",
       "      <td>4333637e-b13a-41b8-a0b6-d43ce4c7c761</td>\n",
       "      <td>35.69</td>\n",
       "    </tr>\n",
       "    <tr>\n",
       "      <th>4</th>\n",
       "      <td>e526a6ac-eaf4-47bd-bead-1332fe3444e4</td>\n",
       "      <td>150.77</td>\n",
       "    </tr>\n",
       "  </tbody>\n",
       "</table>\n",
       "</div>"
      ],
      "text/plain": [
       "                         appointment_id  revenues\n",
       "0  68339e8c-c708-4042-ba21-263838e0487b       NaN\n",
       "1  270bd629-028b-45b2-86a1-af8de97a7fd0     54.17\n",
       "2  85c0b7cf-6e50-4683-88c4-9d6ea30f6500     20.67\n",
       "3  4333637e-b13a-41b8-a0b6-d43ce4c7c761     35.69\n",
       "4  e526a6ac-eaf4-47bd-bead-1332fe3444e4    150.77"
      ]
     },
     "execution_count": 16,
     "metadata": {},
     "output_type": "execute_result"
    }
   ],
   "source": [
    "revenues = pd.read_csv('data/p21_bi_intern_test_revenues.csv')\n",
    "revenues.head()"
   ]
  },
  {
   "cell_type": "code",
   "execution_count": 17,
   "metadata": {},
   "outputs": [
    {
     "data": {
      "text/plain": [
       "(11015, 2)"
      ]
     },
     "execution_count": 17,
     "metadata": {},
     "output_type": "execute_result"
    }
   ],
   "source": [
    "revenues.shape"
   ]
  },
  {
   "cell_type": "code",
   "execution_count": 18,
   "metadata": {},
   "outputs": [
    {
     "name": "stdout",
     "output_type": "stream",
     "text": [
      "<class 'pandas.core.frame.DataFrame'>\n",
      "RangeIndex: 11015 entries, 0 to 11014\n",
      "Data columns (total 2 columns):\n",
      " #   Column          Non-Null Count  Dtype  \n",
      "---  ------          --------------  -----  \n",
      " 0   appointment_id  11015 non-null  object \n",
      " 1   revenues        10902 non-null  float64\n",
      "dtypes: float64(1), object(1)\n",
      "memory usage: 172.2+ KB\n"
     ]
    }
   ],
   "source": [
    "revenues.info()"
   ]
  },
  {
   "cell_type": "code",
   "execution_count": 19,
   "metadata": {},
   "outputs": [
    {
     "data": {
      "text/plain": [
       "appointment_id      0\n",
       "revenues          113\n",
       "dtype: int64"
      ]
     },
     "execution_count": 19,
     "metadata": {},
     "output_type": "execute_result"
    }
   ],
   "source": [
    "revenues.isnull().sum()"
   ]
  },
  {
   "cell_type": "code",
   "execution_count": 20,
   "metadata": {},
   "outputs": [
    {
     "data": {
      "text/plain": [
       "0"
      ]
     },
     "execution_count": 20,
     "metadata": {},
     "output_type": "execute_result"
    }
   ],
   "source": [
    "revenues.duplicated().sum()"
   ]
  },
  {
   "cell_type": "code",
   "execution_count": 21,
   "metadata": {},
   "outputs": [
    {
     "data": {
      "text/plain": [
       "11015"
      ]
     },
     "execution_count": 21,
     "metadata": {},
     "output_type": "execute_result"
    }
   ],
   "source": [
    "revenues['appointment_id'].nunique()"
   ]
  },
  {
   "cell_type": "code",
   "execution_count": 22,
   "metadata": {},
   "outputs": [
    {
     "data": {
      "text/plain": [
       "4951"
      ]
     },
     "execution_count": 22,
     "metadata": {},
     "output_type": "execute_result"
    }
   ],
   "source": [
    "revenues['revenues'].nunique()"
   ]
  },
  {
   "attachments": {},
   "cell_type": "markdown",
   "metadata": {},
   "source": [
    "### Combined Data (appoitments and revenues)"
   ]
  },
  {
   "cell_type": "code",
   "execution_count": 23,
   "metadata": {},
   "outputs": [
    {
     "data": {
      "text/html": [
       "<div>\n",
       "<style scoped>\n",
       "    .dataframe tbody tr th:only-of-type {\n",
       "        vertical-align: middle;\n",
       "    }\n",
       "\n",
       "    .dataframe tbody tr th {\n",
       "        vertical-align: top;\n",
       "    }\n",
       "\n",
       "    .dataframe thead th {\n",
       "        text-align: right;\n",
       "    }\n",
       "</style>\n",
       "<table border=\"1\" class=\"dataframe\">\n",
       "  <thead>\n",
       "    <tr style=\"text-align: right;\">\n",
       "      <th></th>\n",
       "      <th>appointment_id</th>\n",
       "      <th>practitioner_id</th>\n",
       "      <th>patient_id</th>\n",
       "      <th>clinic_id</th>\n",
       "      <th>appointment_date</th>\n",
       "      <th>appointment_year_month</th>\n",
       "      <th>revenues</th>\n",
       "    </tr>\n",
       "  </thead>\n",
       "  <tbody>\n",
       "    <tr>\n",
       "      <th>0</th>\n",
       "      <td>0004df0d-3df6-42be-9d68-b646a42a44bb</td>\n",
       "      <td>c7402157-ae44-45cc-b6a7-b348d5dbd417</td>\n",
       "      <td>158184</td>\n",
       "      <td>2</td>\n",
       "      <td>2022-12-22</td>\n",
       "      <td>2022-12</td>\n",
       "      <td>299.17</td>\n",
       "    </tr>\n",
       "    <tr>\n",
       "      <th>1</th>\n",
       "      <td>000a978e-f134-47b3-ab9e-4f56084be38e</td>\n",
       "      <td>3ca4793d-065e-4112-b023-d1122a2a4b44</td>\n",
       "      <td>112887</td>\n",
       "      <td>2</td>\n",
       "      <td>2022-06-02</td>\n",
       "      <td>2022-06</td>\n",
       "      <td>124.51</td>\n",
       "    </tr>\n",
       "  </tbody>\n",
       "</table>\n",
       "</div>"
      ],
      "text/plain": [
       "                         appointment_id                       practitioner_id  \\\n",
       "0  0004df0d-3df6-42be-9d68-b646a42a44bb  c7402157-ae44-45cc-b6a7-b348d5dbd417   \n",
       "1  000a978e-f134-47b3-ab9e-4f56084be38e  3ca4793d-065e-4112-b023-d1122a2a4b44   \n",
       "\n",
       "   patient_id  clinic_id appointment_date appointment_year_month  revenues  \n",
       "0      158184          2       2022-12-22                2022-12    299.17  \n",
       "1      112887          2       2022-06-02                2022-06    124.51  "
      ]
     },
     "execution_count": 23,
     "metadata": {},
     "output_type": "execute_result"
    }
   ],
   "source": [
    "full_dataset = pd.merge(appointments, revenues, on='appointment_id')\n",
    "full_dataset.head(2)"
   ]
  },
  {
   "cell_type": "code",
   "execution_count": 24,
   "metadata": {},
   "outputs": [
    {
     "data": {
      "text/plain": [
       "1904274.1099999999"
      ]
     },
     "execution_count": 24,
     "metadata": {},
     "output_type": "execute_result"
    }
   ],
   "source": [
    "# Total revenue for year 2022 (both clinics 1 and 2)\n",
    "\n",
    "full_dataset.revenues.sum()"
   ]
  },
  {
   "cell_type": "code",
   "execution_count": 25,
   "metadata": {},
   "outputs": [
    {
     "data": {
      "text/plain": [
       "(11015, 7)"
      ]
     },
     "execution_count": 25,
     "metadata": {},
     "output_type": "execute_result"
    }
   ],
   "source": [
    "full_dataset.shape"
   ]
  },
  {
   "attachments": {},
   "cell_type": "markdown",
   "metadata": {},
   "source": [
    "### Aggregrating the data by clinic and monthly revenue\n"
   ]
  },
  {
   "cell_type": "code",
   "execution_count": 26,
   "metadata": {},
   "outputs": [
    {
     "data": {
      "text/html": [
       "<div>\n",
       "<style scoped>\n",
       "    .dataframe tbody tr th:only-of-type {\n",
       "        vertical-align: middle;\n",
       "    }\n",
       "\n",
       "    .dataframe tbody tr th {\n",
       "        vertical-align: top;\n",
       "    }\n",
       "\n",
       "    .dataframe thead th {\n",
       "        text-align: right;\n",
       "    }\n",
       "</style>\n",
       "<table border=\"1\" class=\"dataframe\">\n",
       "  <thead>\n",
       "    <tr style=\"text-align: right;\">\n",
       "      <th></th>\n",
       "      <th>clinic_id</th>\n",
       "      <th>appointment_year_month</th>\n",
       "      <th>revenues</th>\n",
       "    </tr>\n",
       "  </thead>\n",
       "  <tbody>\n",
       "    <tr>\n",
       "      <th>0</th>\n",
       "      <td>1</td>\n",
       "      <td>2022-01</td>\n",
       "      <td>49252.010</td>\n",
       "    </tr>\n",
       "    <tr>\n",
       "      <th>1</th>\n",
       "      <td>1</td>\n",
       "      <td>2022-02</td>\n",
       "      <td>67169.450</td>\n",
       "    </tr>\n",
       "    <tr>\n",
       "      <th>2</th>\n",
       "      <td>1</td>\n",
       "      <td>2022-03</td>\n",
       "      <td>90365.660</td>\n",
       "    </tr>\n",
       "    <tr>\n",
       "      <th>3</th>\n",
       "      <td>1</td>\n",
       "      <td>2022-04</td>\n",
       "      <td>87678.270</td>\n",
       "    </tr>\n",
       "    <tr>\n",
       "      <th>4</th>\n",
       "      <td>1</td>\n",
       "      <td>2022-05</td>\n",
       "      <td>63757.200</td>\n",
       "    </tr>\n",
       "    <tr>\n",
       "      <th>5</th>\n",
       "      <td>1</td>\n",
       "      <td>2022-06</td>\n",
       "      <td>53689.000</td>\n",
       "    </tr>\n",
       "    <tr>\n",
       "      <th>6</th>\n",
       "      <td>1</td>\n",
       "      <td>2022-07</td>\n",
       "      <td>79371.470</td>\n",
       "    </tr>\n",
       "    <tr>\n",
       "      <th>7</th>\n",
       "      <td>1</td>\n",
       "      <td>2022-08</td>\n",
       "      <td>79411.480</td>\n",
       "    </tr>\n",
       "    <tr>\n",
       "      <th>8</th>\n",
       "      <td>1</td>\n",
       "      <td>2022-09</td>\n",
       "      <td>80940.525</td>\n",
       "    </tr>\n",
       "    <tr>\n",
       "      <th>9</th>\n",
       "      <td>1</td>\n",
       "      <td>2022-10</td>\n",
       "      <td>86047.620</td>\n",
       "    </tr>\n",
       "    <tr>\n",
       "      <th>10</th>\n",
       "      <td>1</td>\n",
       "      <td>2022-11</td>\n",
       "      <td>85419.240</td>\n",
       "    </tr>\n",
       "    <tr>\n",
       "      <th>11</th>\n",
       "      <td>1</td>\n",
       "      <td>2022-12</td>\n",
       "      <td>97008.335</td>\n",
       "    </tr>\n",
       "    <tr>\n",
       "      <th>12</th>\n",
       "      <td>2</td>\n",
       "      <td>2022-01</td>\n",
       "      <td>48897.770</td>\n",
       "    </tr>\n",
       "    <tr>\n",
       "      <th>13</th>\n",
       "      <td>2</td>\n",
       "      <td>2022-02</td>\n",
       "      <td>58058.185</td>\n",
       "    </tr>\n",
       "    <tr>\n",
       "      <th>14</th>\n",
       "      <td>2</td>\n",
       "      <td>2022-03</td>\n",
       "      <td>61340.215</td>\n",
       "    </tr>\n",
       "    <tr>\n",
       "      <th>15</th>\n",
       "      <td>2</td>\n",
       "      <td>2022-04</td>\n",
       "      <td>59258.270</td>\n",
       "    </tr>\n",
       "    <tr>\n",
       "      <th>16</th>\n",
       "      <td>2</td>\n",
       "      <td>2022-05</td>\n",
       "      <td>80434.880</td>\n",
       "    </tr>\n",
       "    <tr>\n",
       "      <th>17</th>\n",
       "      <td>2</td>\n",
       "      <td>2022-06</td>\n",
       "      <td>107148.670</td>\n",
       "    </tr>\n",
       "    <tr>\n",
       "      <th>18</th>\n",
       "      <td>2</td>\n",
       "      <td>2022-07</td>\n",
       "      <td>101954.100</td>\n",
       "    </tr>\n",
       "    <tr>\n",
       "      <th>19</th>\n",
       "      <td>2</td>\n",
       "      <td>2022-08</td>\n",
       "      <td>58053.085</td>\n",
       "    </tr>\n",
       "    <tr>\n",
       "      <th>20</th>\n",
       "      <td>2</td>\n",
       "      <td>2022-09</td>\n",
       "      <td>103774.350</td>\n",
       "    </tr>\n",
       "    <tr>\n",
       "      <th>21</th>\n",
       "      <td>2</td>\n",
       "      <td>2022-10</td>\n",
       "      <td>95280.110</td>\n",
       "    </tr>\n",
       "    <tr>\n",
       "      <th>22</th>\n",
       "      <td>2</td>\n",
       "      <td>2022-11</td>\n",
       "      <td>107583.580</td>\n",
       "    </tr>\n",
       "    <tr>\n",
       "      <th>23</th>\n",
       "      <td>2</td>\n",
       "      <td>2022-12</td>\n",
       "      <td>102380.635</td>\n",
       "    </tr>\n",
       "  </tbody>\n",
       "</table>\n",
       "</div>"
      ],
      "text/plain": [
       "    clinic_id appointment_year_month    revenues\n",
       "0           1                2022-01   49252.010\n",
       "1           1                2022-02   67169.450\n",
       "2           1                2022-03   90365.660\n",
       "3           1                2022-04   87678.270\n",
       "4           1                2022-05   63757.200\n",
       "5           1                2022-06   53689.000\n",
       "6           1                2022-07   79371.470\n",
       "7           1                2022-08   79411.480\n",
       "8           1                2022-09   80940.525\n",
       "9           1                2022-10   86047.620\n",
       "10          1                2022-11   85419.240\n",
       "11          1                2022-12   97008.335\n",
       "12          2                2022-01   48897.770\n",
       "13          2                2022-02   58058.185\n",
       "14          2                2022-03   61340.215\n",
       "15          2                2022-04   59258.270\n",
       "16          2                2022-05   80434.880\n",
       "17          2                2022-06  107148.670\n",
       "18          2                2022-07  101954.100\n",
       "19          2                2022-08   58053.085\n",
       "20          2                2022-09  103774.350\n",
       "21          2                2022-10   95280.110\n",
       "22          2                2022-11  107583.580\n",
       "23          2                2022-12  102380.635"
      ]
     },
     "execution_count": 26,
     "metadata": {},
     "output_type": "execute_result"
    }
   ],
   "source": [
    "monthly_revenues = full_dataset.groupby(['clinic_id', 'appointment_year_month'])['revenues'].sum().reset_index()\n",
    "monthly_revenues"
   ]
  },
  {
   "attachments": {},
   "cell_type": "markdown",
   "metadata": {},
   "source": [
    "### Aggregrating the data by clinic and number of unique patient per month\n",
    "\n",
    "Note: number of unique patient per month will be based on date of first appointment to avoid counting the same patient_id more than once as they may appear in different months"
   ]
  },
  {
   "cell_type": "code",
   "execution_count": 27,
   "metadata": {},
   "outputs": [
    {
     "data": {
      "text/html": [
       "<div>\n",
       "<style scoped>\n",
       "    .dataframe tbody tr th:only-of-type {\n",
       "        vertical-align: middle;\n",
       "    }\n",
       "\n",
       "    .dataframe tbody tr th {\n",
       "        vertical-align: top;\n",
       "    }\n",
       "\n",
       "    .dataframe thead th {\n",
       "        text-align: right;\n",
       "    }\n",
       "</style>\n",
       "<table border=\"1\" class=\"dataframe\">\n",
       "  <thead>\n",
       "    <tr style=\"text-align: right;\">\n",
       "      <th></th>\n",
       "      <th>patient_id</th>\n",
       "      <th>first_appointment_date</th>\n",
       "    </tr>\n",
       "  </thead>\n",
       "  <tbody>\n",
       "    <tr>\n",
       "      <th>0</th>\n",
       "      <td>18069</td>\n",
       "      <td>2022-05-23</td>\n",
       "    </tr>\n",
       "    <tr>\n",
       "      <th>1</th>\n",
       "      <td>18071</td>\n",
       "      <td>2022-01-12</td>\n",
       "    </tr>\n",
       "    <tr>\n",
       "      <th>2</th>\n",
       "      <td>18087</td>\n",
       "      <td>2022-11-24</td>\n",
       "    </tr>\n",
       "    <tr>\n",
       "      <th>3</th>\n",
       "      <td>18102</td>\n",
       "      <td>2022-07-15</td>\n",
       "    </tr>\n",
       "    <tr>\n",
       "      <th>4</th>\n",
       "      <td>18111</td>\n",
       "      <td>2022-01-01</td>\n",
       "    </tr>\n",
       "  </tbody>\n",
       "</table>\n",
       "</div>"
      ],
      "text/plain": [
       "   patient_id first_appointment_date\n",
       "0       18069             2022-05-23\n",
       "1       18071             2022-01-12\n",
       "2       18087             2022-11-24\n",
       "3       18102             2022-07-15\n",
       "4       18111             2022-01-01"
      ]
     },
     "execution_count": 27,
     "metadata": {},
     "output_type": "execute_result"
    }
   ],
   "source": [
    "# Finding the first appointment date for each patient\n",
    "\n",
    "first_appt = full_dataset.groupby('patient_id')['appointment_date'].min().reset_index()\n",
    "first_appt = first_appt.rename(columns={'appointment_date': 'first_appointment_date'})\n",
    "first_appt.head()\n"
   ]
  },
  {
   "cell_type": "code",
   "execution_count": 28,
   "metadata": {},
   "outputs": [
    {
     "data": {
      "text/html": [
       "<div>\n",
       "<style scoped>\n",
       "    .dataframe tbody tr th:only-of-type {\n",
       "        vertical-align: middle;\n",
       "    }\n",
       "\n",
       "    .dataframe tbody tr th {\n",
       "        vertical-align: top;\n",
       "    }\n",
       "\n",
       "    .dataframe thead th {\n",
       "        text-align: right;\n",
       "    }\n",
       "</style>\n",
       "<table border=\"1\" class=\"dataframe\">\n",
       "  <thead>\n",
       "    <tr style=\"text-align: right;\">\n",
       "      <th></th>\n",
       "      <th>appointment_id</th>\n",
       "      <th>practitioner_id</th>\n",
       "      <th>patient_id</th>\n",
       "      <th>clinic_id</th>\n",
       "      <th>appointment_date</th>\n",
       "      <th>appointment_year_month</th>\n",
       "      <th>revenues</th>\n",
       "      <th>first_appointment_date</th>\n",
       "    </tr>\n",
       "  </thead>\n",
       "  <tbody>\n",
       "    <tr>\n",
       "      <th>0</th>\n",
       "      <td>0004df0d-3df6-42be-9d68-b646a42a44bb</td>\n",
       "      <td>c7402157-ae44-45cc-b6a7-b348d5dbd417</td>\n",
       "      <td>158184</td>\n",
       "      <td>2</td>\n",
       "      <td>2022-12-22</td>\n",
       "      <td>2022-12</td>\n",
       "      <td>299.17</td>\n",
       "      <td>2022-12-22</td>\n",
       "    </tr>\n",
       "    <tr>\n",
       "      <th>1</th>\n",
       "      <td>000a978e-f134-47b3-ab9e-4f56084be38e</td>\n",
       "      <td>3ca4793d-065e-4112-b023-d1122a2a4b44</td>\n",
       "      <td>112887</td>\n",
       "      <td>2</td>\n",
       "      <td>2022-06-02</td>\n",
       "      <td>2022-06</td>\n",
       "      <td>124.51</td>\n",
       "      <td>2022-05-12</td>\n",
       "    </tr>\n",
       "  </tbody>\n",
       "</table>\n",
       "</div>"
      ],
      "text/plain": [
       "                         appointment_id                       practitioner_id  \\\n",
       "0  0004df0d-3df6-42be-9d68-b646a42a44bb  c7402157-ae44-45cc-b6a7-b348d5dbd417   \n",
       "1  000a978e-f134-47b3-ab9e-4f56084be38e  3ca4793d-065e-4112-b023-d1122a2a4b44   \n",
       "\n",
       "   patient_id  clinic_id appointment_date appointment_year_month  revenues  \\\n",
       "0      158184          2       2022-12-22                2022-12    299.17   \n",
       "1      112887          2       2022-06-02                2022-06    124.51   \n",
       "\n",
       "  first_appointment_date  \n",
       "0             2022-12-22  \n",
       "1             2022-05-12  "
      ]
     },
     "execution_count": 28,
     "metadata": {},
     "output_type": "execute_result"
    }
   ],
   "source": [
    "# Merging the first appointment date with the data frame\n",
    "\n",
    "full_dataset = pd.merge(full_dataset, first_appt, on='patient_id')\n",
    "full_dataset.head(2)"
   ]
  },
  {
   "cell_type": "code",
   "execution_count": 29,
   "metadata": {},
   "outputs": [
    {
     "data": {
      "text/html": [
       "<div>\n",
       "<style scoped>\n",
       "    .dataframe tbody tr th:only-of-type {\n",
       "        vertical-align: middle;\n",
       "    }\n",
       "\n",
       "    .dataframe tbody tr th {\n",
       "        vertical-align: top;\n",
       "    }\n",
       "\n",
       "    .dataframe thead th {\n",
       "        text-align: right;\n",
       "    }\n",
       "</style>\n",
       "<table border=\"1\" class=\"dataframe\">\n",
       "  <thead>\n",
       "    <tr style=\"text-align: right;\">\n",
       "      <th></th>\n",
       "      <th>appointment_id</th>\n",
       "      <th>practitioner_id</th>\n",
       "      <th>patient_id</th>\n",
       "      <th>clinic_id</th>\n",
       "      <th>appointment_date</th>\n",
       "      <th>appointment_year_month</th>\n",
       "      <th>revenues</th>\n",
       "      <th>first_appointment_date</th>\n",
       "      <th>first_appointment_month</th>\n",
       "    </tr>\n",
       "  </thead>\n",
       "  <tbody>\n",
       "    <tr>\n",
       "      <th>0</th>\n",
       "      <td>0004df0d-3df6-42be-9d68-b646a42a44bb</td>\n",
       "      <td>c7402157-ae44-45cc-b6a7-b348d5dbd417</td>\n",
       "      <td>158184</td>\n",
       "      <td>2</td>\n",
       "      <td>2022-12-22</td>\n",
       "      <td>2022-12</td>\n",
       "      <td>299.17</td>\n",
       "      <td>2022-12-22</td>\n",
       "      <td>2022-12</td>\n",
       "    </tr>\n",
       "    <tr>\n",
       "      <th>1</th>\n",
       "      <td>000a978e-f134-47b3-ab9e-4f56084be38e</td>\n",
       "      <td>3ca4793d-065e-4112-b023-d1122a2a4b44</td>\n",
       "      <td>112887</td>\n",
       "      <td>2</td>\n",
       "      <td>2022-06-02</td>\n",
       "      <td>2022-06</td>\n",
       "      <td>124.51</td>\n",
       "      <td>2022-05-12</td>\n",
       "      <td>2022-05</td>\n",
       "    </tr>\n",
       "  </tbody>\n",
       "</table>\n",
       "</div>"
      ],
      "text/plain": [
       "                         appointment_id                       practitioner_id  \\\n",
       "0  0004df0d-3df6-42be-9d68-b646a42a44bb  c7402157-ae44-45cc-b6a7-b348d5dbd417   \n",
       "1  000a978e-f134-47b3-ab9e-4f56084be38e  3ca4793d-065e-4112-b023-d1122a2a4b44   \n",
       "\n",
       "   patient_id  clinic_id appointment_date appointment_year_month  revenues  \\\n",
       "0      158184          2       2022-12-22                2022-12    299.17   \n",
       "1      112887          2       2022-06-02                2022-06    124.51   \n",
       "\n",
       "  first_appointment_date first_appointment_month  \n",
       "0             2022-12-22                 2022-12  \n",
       "1             2022-05-12                 2022-05  "
      ]
     },
     "execution_count": 29,
     "metadata": {},
     "output_type": "execute_result"
    }
   ],
   "source": [
    "# Extracting the year and month of the patient's first appointment\n",
    "\n",
    "full_dataset['first_appointment_month'] = full_dataset['first_appointment_date'].apply(lambda x: x.strftime('%Y-%m'))\n",
    "full_dataset.head(2)"
   ]
  },
  {
   "cell_type": "code",
   "execution_count": 30,
   "metadata": {},
   "outputs": [
    {
     "data": {
      "text/html": [
       "<div>\n",
       "<style scoped>\n",
       "    .dataframe tbody tr th:only-of-type {\n",
       "        vertical-align: middle;\n",
       "    }\n",
       "\n",
       "    .dataframe tbody tr th {\n",
       "        vertical-align: top;\n",
       "    }\n",
       "\n",
       "    .dataframe thead th {\n",
       "        text-align: right;\n",
       "    }\n",
       "</style>\n",
       "<table border=\"1\" class=\"dataframe\">\n",
       "  <thead>\n",
       "    <tr style=\"text-align: right;\">\n",
       "      <th></th>\n",
       "      <th>clinic_id</th>\n",
       "      <th>appointment_year_month</th>\n",
       "      <th>unique_patients</th>\n",
       "    </tr>\n",
       "  </thead>\n",
       "  <tbody>\n",
       "    <tr>\n",
       "      <th>0</th>\n",
       "      <td>1</td>\n",
       "      <td>2022-01</td>\n",
       "      <td>260</td>\n",
       "    </tr>\n",
       "    <tr>\n",
       "      <th>1</th>\n",
       "      <td>1</td>\n",
       "      <td>2022-02</td>\n",
       "      <td>114</td>\n",
       "    </tr>\n",
       "    <tr>\n",
       "      <th>2</th>\n",
       "      <td>1</td>\n",
       "      <td>2022-03</td>\n",
       "      <td>102</td>\n",
       "    </tr>\n",
       "    <tr>\n",
       "      <th>3</th>\n",
       "      <td>1</td>\n",
       "      <td>2022-04</td>\n",
       "      <td>126</td>\n",
       "    </tr>\n",
       "    <tr>\n",
       "      <th>4</th>\n",
       "      <td>1</td>\n",
       "      <td>2022-05</td>\n",
       "      <td>142</td>\n",
       "    </tr>\n",
       "    <tr>\n",
       "      <th>5</th>\n",
       "      <td>1</td>\n",
       "      <td>2022-06</td>\n",
       "      <td>94</td>\n",
       "    </tr>\n",
       "    <tr>\n",
       "      <th>6</th>\n",
       "      <td>1</td>\n",
       "      <td>2022-07</td>\n",
       "      <td>125</td>\n",
       "    </tr>\n",
       "    <tr>\n",
       "      <th>7</th>\n",
       "      <td>1</td>\n",
       "      <td>2022-08</td>\n",
       "      <td>150</td>\n",
       "    </tr>\n",
       "    <tr>\n",
       "      <th>8</th>\n",
       "      <td>1</td>\n",
       "      <td>2022-09</td>\n",
       "      <td>134</td>\n",
       "    </tr>\n",
       "    <tr>\n",
       "      <th>9</th>\n",
       "      <td>1</td>\n",
       "      <td>2022-10</td>\n",
       "      <td>109</td>\n",
       "    </tr>\n",
       "    <tr>\n",
       "      <th>10</th>\n",
       "      <td>1</td>\n",
       "      <td>2022-11</td>\n",
       "      <td>110</td>\n",
       "    </tr>\n",
       "    <tr>\n",
       "      <th>11</th>\n",
       "      <td>1</td>\n",
       "      <td>2022-12</td>\n",
       "      <td>139</td>\n",
       "    </tr>\n",
       "    <tr>\n",
       "      <th>12</th>\n",
       "      <td>2</td>\n",
       "      <td>2022-01</td>\n",
       "      <td>239</td>\n",
       "    </tr>\n",
       "    <tr>\n",
       "      <th>13</th>\n",
       "      <td>2</td>\n",
       "      <td>2022-02</td>\n",
       "      <td>185</td>\n",
       "    </tr>\n",
       "    <tr>\n",
       "      <th>14</th>\n",
       "      <td>2</td>\n",
       "      <td>2022-03</td>\n",
       "      <td>173</td>\n",
       "    </tr>\n",
       "    <tr>\n",
       "      <th>15</th>\n",
       "      <td>2</td>\n",
       "      <td>2022-04</td>\n",
       "      <td>186</td>\n",
       "    </tr>\n",
       "    <tr>\n",
       "      <th>16</th>\n",
       "      <td>2</td>\n",
       "      <td>2022-05</td>\n",
       "      <td>168</td>\n",
       "    </tr>\n",
       "    <tr>\n",
       "      <th>17</th>\n",
       "      <td>2</td>\n",
       "      <td>2022-06</td>\n",
       "      <td>126</td>\n",
       "    </tr>\n",
       "    <tr>\n",
       "      <th>18</th>\n",
       "      <td>2</td>\n",
       "      <td>2022-07</td>\n",
       "      <td>155</td>\n",
       "    </tr>\n",
       "    <tr>\n",
       "      <th>19</th>\n",
       "      <td>2</td>\n",
       "      <td>2022-08</td>\n",
       "      <td>129</td>\n",
       "    </tr>\n",
       "    <tr>\n",
       "      <th>20</th>\n",
       "      <td>2</td>\n",
       "      <td>2022-09</td>\n",
       "      <td>241</td>\n",
       "    </tr>\n",
       "    <tr>\n",
       "      <th>21</th>\n",
       "      <td>2</td>\n",
       "      <td>2022-10</td>\n",
       "      <td>243</td>\n",
       "    </tr>\n",
       "    <tr>\n",
       "      <th>22</th>\n",
       "      <td>2</td>\n",
       "      <td>2022-11</td>\n",
       "      <td>259</td>\n",
       "    </tr>\n",
       "    <tr>\n",
       "      <th>23</th>\n",
       "      <td>2</td>\n",
       "      <td>2022-12</td>\n",
       "      <td>268</td>\n",
       "    </tr>\n",
       "  </tbody>\n",
       "</table>\n",
       "</div>"
      ],
      "text/plain": [
       "    clinic_id appointment_year_month  unique_patients\n",
       "0           1                2022-01              260\n",
       "1           1                2022-02              114\n",
       "2           1                2022-03              102\n",
       "3           1                2022-04              126\n",
       "4           1                2022-05              142\n",
       "5           1                2022-06               94\n",
       "6           1                2022-07              125\n",
       "7           1                2022-08              150\n",
       "8           1                2022-09              134\n",
       "9           1                2022-10              109\n",
       "10          1                2022-11              110\n",
       "11          1                2022-12              139\n",
       "12          2                2022-01              239\n",
       "13          2                2022-02              185\n",
       "14          2                2022-03              173\n",
       "15          2                2022-04              186\n",
       "16          2                2022-05              168\n",
       "17          2                2022-06              126\n",
       "18          2                2022-07              155\n",
       "19          2                2022-08              129\n",
       "20          2                2022-09              241\n",
       "21          2                2022-10              243\n",
       "22          2                2022-11              259\n",
       "23          2                2022-12              268"
      ]
     },
     "execution_count": 30,
     "metadata": {},
     "output_type": "execute_result"
    }
   ],
   "source": [
    "# Aggregating the appointments data by clinic and month of first appointment\n",
    "\n",
    "unique_patients = full_dataset.groupby(['clinic_id', 'first_appointment_month'])['patient_id'].nunique().reset_index()\n",
    "unique_patients = unique_patients.rename(columns={'patient_id': 'unique_patients', 'first_appointment_month' : 'appointment_year_month'}) # renaming first_appointment_month as appointment_year_month for easy merging in the next step\n",
    "unique_patients"
   ]
  },
  {
   "cell_type": "code",
   "execution_count": 31,
   "metadata": {},
   "outputs": [],
   "source": [
    "# Createing a dictionary of data frames for each clinic\n",
    "\n",
    "clinic_data = {}\n",
    "for clinic_id in monthly_revenues['clinic_id'].unique():\n",
    "    clinic_revenues = monthly_revenues[monthly_revenues['clinic_id'] == clinic_id]\n",
    "    clinic_patients = unique_patients[unique_patients['clinic_id'] == clinic_id]\n",
    "    if clinic_id == 1:\n",
    "        clinic_data['Clinic 1'] = pd.merge(clinic_revenues, clinic_patients, on='appointment_year_month')\n",
    "    elif clinic_id == 2:\n",
    "        clinic_data['Clinic 2'] = pd.merge(clinic_revenues, clinic_patients, on='appointment_year_month')"
   ]
  },
  {
   "cell_type": "code",
   "execution_count": 32,
   "metadata": {},
   "outputs": [
    {
     "data": {
      "text/html": [
       "<div>\n",
       "<style scoped>\n",
       "    .dataframe tbody tr th:only-of-type {\n",
       "        vertical-align: middle;\n",
       "    }\n",
       "\n",
       "    .dataframe tbody tr th {\n",
       "        vertical-align: top;\n",
       "    }\n",
       "\n",
       "    .dataframe thead th {\n",
       "        text-align: right;\n",
       "    }\n",
       "</style>\n",
       "<table border=\"1\" class=\"dataframe\">\n",
       "  <thead>\n",
       "    <tr style=\"text-align: right;\">\n",
       "      <th></th>\n",
       "      <th>clinic_id_x</th>\n",
       "      <th>appointment_year_month</th>\n",
       "      <th>revenues</th>\n",
       "      <th>clinic_id_y</th>\n",
       "      <th>unique_patients</th>\n",
       "    </tr>\n",
       "  </thead>\n",
       "  <tbody>\n",
       "    <tr>\n",
       "      <th>0</th>\n",
       "      <td>1</td>\n",
       "      <td>2022-01</td>\n",
       "      <td>49252.010</td>\n",
       "      <td>1</td>\n",
       "      <td>260</td>\n",
       "    </tr>\n",
       "    <tr>\n",
       "      <th>1</th>\n",
       "      <td>1</td>\n",
       "      <td>2022-02</td>\n",
       "      <td>67169.450</td>\n",
       "      <td>1</td>\n",
       "      <td>114</td>\n",
       "    </tr>\n",
       "    <tr>\n",
       "      <th>2</th>\n",
       "      <td>1</td>\n",
       "      <td>2022-03</td>\n",
       "      <td>90365.660</td>\n",
       "      <td>1</td>\n",
       "      <td>102</td>\n",
       "    </tr>\n",
       "    <tr>\n",
       "      <th>3</th>\n",
       "      <td>1</td>\n",
       "      <td>2022-04</td>\n",
       "      <td>87678.270</td>\n",
       "      <td>1</td>\n",
       "      <td>126</td>\n",
       "    </tr>\n",
       "    <tr>\n",
       "      <th>4</th>\n",
       "      <td>1</td>\n",
       "      <td>2022-05</td>\n",
       "      <td>63757.200</td>\n",
       "      <td>1</td>\n",
       "      <td>142</td>\n",
       "    </tr>\n",
       "    <tr>\n",
       "      <th>5</th>\n",
       "      <td>1</td>\n",
       "      <td>2022-06</td>\n",
       "      <td>53689.000</td>\n",
       "      <td>1</td>\n",
       "      <td>94</td>\n",
       "    </tr>\n",
       "    <tr>\n",
       "      <th>6</th>\n",
       "      <td>1</td>\n",
       "      <td>2022-07</td>\n",
       "      <td>79371.470</td>\n",
       "      <td>1</td>\n",
       "      <td>125</td>\n",
       "    </tr>\n",
       "    <tr>\n",
       "      <th>7</th>\n",
       "      <td>1</td>\n",
       "      <td>2022-08</td>\n",
       "      <td>79411.480</td>\n",
       "      <td>1</td>\n",
       "      <td>150</td>\n",
       "    </tr>\n",
       "    <tr>\n",
       "      <th>8</th>\n",
       "      <td>1</td>\n",
       "      <td>2022-09</td>\n",
       "      <td>80940.525</td>\n",
       "      <td>1</td>\n",
       "      <td>134</td>\n",
       "    </tr>\n",
       "    <tr>\n",
       "      <th>9</th>\n",
       "      <td>1</td>\n",
       "      <td>2022-10</td>\n",
       "      <td>86047.620</td>\n",
       "      <td>1</td>\n",
       "      <td>109</td>\n",
       "    </tr>\n",
       "    <tr>\n",
       "      <th>10</th>\n",
       "      <td>1</td>\n",
       "      <td>2022-11</td>\n",
       "      <td>85419.240</td>\n",
       "      <td>1</td>\n",
       "      <td>110</td>\n",
       "    </tr>\n",
       "    <tr>\n",
       "      <th>11</th>\n",
       "      <td>1</td>\n",
       "      <td>2022-12</td>\n",
       "      <td>97008.335</td>\n",
       "      <td>1</td>\n",
       "      <td>139</td>\n",
       "    </tr>\n",
       "  </tbody>\n",
       "</table>\n",
       "</div>"
      ],
      "text/plain": [
       "    clinic_id_x appointment_year_month   revenues  clinic_id_y  \\\n",
       "0             1                2022-01  49252.010            1   \n",
       "1             1                2022-02  67169.450            1   \n",
       "2             1                2022-03  90365.660            1   \n",
       "3             1                2022-04  87678.270            1   \n",
       "4             1                2022-05  63757.200            1   \n",
       "5             1                2022-06  53689.000            1   \n",
       "6             1                2022-07  79371.470            1   \n",
       "7             1                2022-08  79411.480            1   \n",
       "8             1                2022-09  80940.525            1   \n",
       "9             1                2022-10  86047.620            1   \n",
       "10            1                2022-11  85419.240            1   \n",
       "11            1                2022-12  97008.335            1   \n",
       "\n",
       "    unique_patients  \n",
       "0               260  \n",
       "1               114  \n",
       "2               102  \n",
       "3               126  \n",
       "4               142  \n",
       "5                94  \n",
       "6               125  \n",
       "7               150  \n",
       "8               134  \n",
       "9               109  \n",
       "10              110  \n",
       "11              139  "
      ]
     },
     "execution_count": 32,
     "metadata": {},
     "output_type": "execute_result"
    }
   ],
   "source": [
    "clinic_data['Clinic 1']"
   ]
  },
  {
   "cell_type": "code",
   "execution_count": 33,
   "metadata": {},
   "outputs": [
    {
     "data": {
      "text/html": [
       "<div>\n",
       "<style scoped>\n",
       "    .dataframe tbody tr th:only-of-type {\n",
       "        vertical-align: middle;\n",
       "    }\n",
       "\n",
       "    .dataframe tbody tr th {\n",
       "        vertical-align: top;\n",
       "    }\n",
       "\n",
       "    .dataframe thead th {\n",
       "        text-align: right;\n",
       "    }\n",
       "</style>\n",
       "<table border=\"1\" class=\"dataframe\">\n",
       "  <thead>\n",
       "    <tr style=\"text-align: right;\">\n",
       "      <th></th>\n",
       "      <th>clinic_id_x</th>\n",
       "      <th>appointment_year_month</th>\n",
       "      <th>revenues</th>\n",
       "      <th>clinic_id_y</th>\n",
       "      <th>unique_patients</th>\n",
       "    </tr>\n",
       "  </thead>\n",
       "  <tbody>\n",
       "    <tr>\n",
       "      <th>0</th>\n",
       "      <td>2</td>\n",
       "      <td>2022-01</td>\n",
       "      <td>48897.770</td>\n",
       "      <td>2</td>\n",
       "      <td>239</td>\n",
       "    </tr>\n",
       "    <tr>\n",
       "      <th>1</th>\n",
       "      <td>2</td>\n",
       "      <td>2022-02</td>\n",
       "      <td>58058.185</td>\n",
       "      <td>2</td>\n",
       "      <td>185</td>\n",
       "    </tr>\n",
       "    <tr>\n",
       "      <th>2</th>\n",
       "      <td>2</td>\n",
       "      <td>2022-03</td>\n",
       "      <td>61340.215</td>\n",
       "      <td>2</td>\n",
       "      <td>173</td>\n",
       "    </tr>\n",
       "    <tr>\n",
       "      <th>3</th>\n",
       "      <td>2</td>\n",
       "      <td>2022-04</td>\n",
       "      <td>59258.270</td>\n",
       "      <td>2</td>\n",
       "      <td>186</td>\n",
       "    </tr>\n",
       "    <tr>\n",
       "      <th>4</th>\n",
       "      <td>2</td>\n",
       "      <td>2022-05</td>\n",
       "      <td>80434.880</td>\n",
       "      <td>2</td>\n",
       "      <td>168</td>\n",
       "    </tr>\n",
       "    <tr>\n",
       "      <th>5</th>\n",
       "      <td>2</td>\n",
       "      <td>2022-06</td>\n",
       "      <td>107148.670</td>\n",
       "      <td>2</td>\n",
       "      <td>126</td>\n",
       "    </tr>\n",
       "    <tr>\n",
       "      <th>6</th>\n",
       "      <td>2</td>\n",
       "      <td>2022-07</td>\n",
       "      <td>101954.100</td>\n",
       "      <td>2</td>\n",
       "      <td>155</td>\n",
       "    </tr>\n",
       "    <tr>\n",
       "      <th>7</th>\n",
       "      <td>2</td>\n",
       "      <td>2022-08</td>\n",
       "      <td>58053.085</td>\n",
       "      <td>2</td>\n",
       "      <td>129</td>\n",
       "    </tr>\n",
       "    <tr>\n",
       "      <th>8</th>\n",
       "      <td>2</td>\n",
       "      <td>2022-09</td>\n",
       "      <td>103774.350</td>\n",
       "      <td>2</td>\n",
       "      <td>241</td>\n",
       "    </tr>\n",
       "    <tr>\n",
       "      <th>9</th>\n",
       "      <td>2</td>\n",
       "      <td>2022-10</td>\n",
       "      <td>95280.110</td>\n",
       "      <td>2</td>\n",
       "      <td>243</td>\n",
       "    </tr>\n",
       "    <tr>\n",
       "      <th>10</th>\n",
       "      <td>2</td>\n",
       "      <td>2022-11</td>\n",
       "      <td>107583.580</td>\n",
       "      <td>2</td>\n",
       "      <td>259</td>\n",
       "    </tr>\n",
       "    <tr>\n",
       "      <th>11</th>\n",
       "      <td>2</td>\n",
       "      <td>2022-12</td>\n",
       "      <td>102380.635</td>\n",
       "      <td>2</td>\n",
       "      <td>268</td>\n",
       "    </tr>\n",
       "  </tbody>\n",
       "</table>\n",
       "</div>"
      ],
      "text/plain": [
       "    clinic_id_x appointment_year_month    revenues  clinic_id_y  \\\n",
       "0             2                2022-01   48897.770            2   \n",
       "1             2                2022-02   58058.185            2   \n",
       "2             2                2022-03   61340.215            2   \n",
       "3             2                2022-04   59258.270            2   \n",
       "4             2                2022-05   80434.880            2   \n",
       "5             2                2022-06  107148.670            2   \n",
       "6             2                2022-07  101954.100            2   \n",
       "7             2                2022-08   58053.085            2   \n",
       "8             2                2022-09  103774.350            2   \n",
       "9             2                2022-10   95280.110            2   \n",
       "10            2                2022-11  107583.580            2   \n",
       "11            2                2022-12  102380.635            2   \n",
       "\n",
       "    unique_patients  \n",
       "0               239  \n",
       "1               185  \n",
       "2               173  \n",
       "3               186  \n",
       "4               168  \n",
       "5               126  \n",
       "6               155  \n",
       "7               129  \n",
       "8               241  \n",
       "9               243  \n",
       "10              259  \n",
       "11              268  "
      ]
     },
     "execution_count": 33,
     "metadata": {},
     "output_type": "execute_result"
    }
   ],
   "source": [
    "clinic_data['Clinic 2']"
   ]
  },
  {
   "attachments": {},
   "cell_type": "markdown",
   "metadata": {},
   "source": [
    "### Forecasting with Autoregressive Integrated Moving Average (ARIMA)\n",
    "\n",
    "Using time series forecasting model, ARIMA, future values are modelled and predicted based on the data above."
   ]
  },
  {
   "cell_type": "code",
   "execution_count": 34,
   "metadata": {},
   "outputs": [],
   "source": [
    "from statsmodels.tsa.arima.model import ARIMA\n",
    "import dateutil.relativedelta as relativedelta"
   ]
  },
  {
   "cell_type": "code",
   "execution_count": 35,
   "metadata": {},
   "outputs": [
    {
     "name": "stderr",
     "output_type": "stream",
     "text": [
      "/home/eniolaolalere/miniconda3/envs/nf_sql/lib/python3.9/site-packages/statsmodels/tsa/base/tsa_model.py:471: ValueWarning: No frequency information was provided, so inferred frequency MS will be used.\n",
      "  self._init_dates(dates, freq)\n",
      "/home/eniolaolalere/miniconda3/envs/nf_sql/lib/python3.9/site-packages/statsmodels/tsa/base/tsa_model.py:471: ValueWarning: No frequency information was provided, so inferred frequency MS will be used.\n",
      "  self._init_dates(dates, freq)\n",
      "/home/eniolaolalere/miniconda3/envs/nf_sql/lib/python3.9/site-packages/statsmodels/tsa/base/tsa_model.py:471: ValueWarning: No frequency information was provided, so inferred frequency MS will be used.\n",
      "  self._init_dates(dates, freq)\n",
      "/home/eniolaolalere/miniconda3/envs/nf_sql/lib/python3.9/site-packages/statsmodels/tsa/base/tsa_model.py:471: ValueWarning: No frequency information was provided, so inferred frequency MS will be used.\n",
      "  self._init_dates(dates, freq)\n",
      "/home/eniolaolalere/miniconda3/envs/nf_sql/lib/python3.9/site-packages/statsmodels/tsa/base/tsa_model.py:471: ValueWarning: No frequency information was provided, so inferred frequency MS will be used.\n",
      "  self._init_dates(dates, freq)\n",
      "/home/eniolaolalere/miniconda3/envs/nf_sql/lib/python3.9/site-packages/statsmodels/tsa/base/tsa_model.py:471: ValueWarning: No frequency information was provided, so inferred frequency MS will be used.\n",
      "  self._init_dates(dates, freq)\n"
     ]
    }
   ],
   "source": [
    "clinic_forecasts = {}\n",
    "for clinic_id, clinic_df in clinic_data.items():\n",
    "    ts_df = clinic_df.set_index('appointment_year_month')['revenues'] # Creating a time series data frame for ARIMA\n",
    "    model = ARIMA(ts_df, order=(1, 1, 1)) # Fitting an ARIMA model to the data and making a forecast\n",
    "    model_fit = model.fit()\n",
    "    forecast = model_fit.forecast(steps=12)\n",
    "    \n",
    "    clinic_forecasts[clinic_id] = pd.DataFrame({'appointment_year_month': pd.date_range(start='2023-01-01', end='2023-12-01', freq='MS')}) # Storing the forecast in a dictionary\n",
    "    clinic_forecasts[clinic_id]['forecast_revenues'] = forecast.values\n",
    "    clinic_forecasts[clinic_id]['forecast_patients'] = clinic_df['unique_patients'].mean()"
   ]
  },
  {
   "cell_type": "code",
   "execution_count": 36,
   "metadata": {},
   "outputs": [
    {
     "name": "stdout",
     "output_type": "stream",
     "text": [
      "Expected total revenues for 2023: €2445062.10\n",
      "Expected total unique patients for 2023: 3977\n"
     ]
    }
   ],
   "source": [
    "# Summing up the monthly revenues and unique patients to obtain the expected total revenues and unique patients for 2023\n",
    "\n",
    "total_revenues = sum([clinic_forecasts[clinic_id]['forecast_revenues'].sum() for clinic_id in clinic_forecasts.keys()])\n",
    "total_unique_patients = sum([clinic_forecasts[clinic_id]['forecast_patients'].sum() for clinic_id in clinic_forecasts.keys()])\n",
    "\n",
    "print(f\"Expected total revenues for 2023: €{total_revenues:.2f}\")\n",
    "print(f\"Expected total unique patients for 2023: {int(total_unique_patients)}\")"
   ]
  },
  {
   "attachments": {},
   "cell_type": "markdown",
   "metadata": {},
   "source": [
    "#### Forecast for Clinic 3 (New clinic that will be lunched in March, 2023)"
   ]
  },
  {
   "cell_type": "code",
   "execution_count": 37,
   "metadata": {},
   "outputs": [],
   "source": [
    "# Forecasting the monthly revenues and unique patients for the new clinic starting in March 2023\n",
    "\n",
    "new_clinic_id = max(clinic_forecasts.keys()) + str(1)\n",
    "start_date = '2023-03-01'\n",
    "end_date = '2023-12-01'\n",
    "num_months = relativedelta.relativedelta(pd.to_datetime(end_date), pd.to_datetime(start_date)).months + 1\n",
    "new_clinic_forecast = pd.DataFrame({'year_month': pd.date_range(start=start_date, end=end_date, freq='MS')})\n",
    "new_clinic_forecast['forecast_patients'] = clinic_forecasts['Clinic 1']['forecast_patients'].mean()  # Using the mean unique patients of the existing clinics as a proxy\n",
    "new_clinic_forecast['forecast_revenues'] = np.nan\n",
    "\n",
    "# Initializing the revenue forecast for the new clinic as the average of the existing clinics' forecasts\n",
    "for month in range(1, num_months + 1):\n",
    "    new_clinic_forecast.loc[month - 1, 'forecast_revenues'] = sum([clinic_forecasts[clinic_id].loc[month - 1, 'forecast_revenues'] for clinic_id in clinic_forecasts.keys()]) / len(clinic_forecasts.keys())\n",
    "\n",
    "\n",
    "#print(f\"Expected monthly revenues for the new clinic:\\n{new_clinic_forecast[['year_month', 'forecast_revenues']]}\")\n",
    "#print(f\"Expected monthly unique patients for the new clinic:\\n{new_clinic_forecast[['year_month', 'forecast_patients']]}\")\n",
    "\n"
   ]
  },
  {
   "cell_type": "code",
   "execution_count": 38,
   "metadata": {},
   "outputs": [
    {
     "name": "stdout",
     "output_type": "stream",
     "text": [
      "Total expected revenue for the new clinic in 2023: €1018718.10\n",
      "Total expected unique patients for the new clinic in 2023: 1337\n"
     ]
    }
   ],
   "source": [
    "# Calculating the total revenue and unique patients for the new clinic\n",
    "total_new_clinic_3_revenue = new_clinic_forecast['forecast_revenues'].sum()\n",
    "total_new_clinic_3_patients = new_clinic_forecast['forecast_patients'].sum()\n",
    "\n",
    "print(f\"Total expected revenue for the new clinic in 2023: €{total_new_clinic_3_revenue:.2f}\")\n",
    "print(f\"Total expected unique patients for the new clinic in 2023: {int(total_new_clinic_3_patients)}\")\n"
   ]
  },
  {
   "attachments": {},
   "cell_type": "markdown",
   "metadata": {},
   "source": [
    "#### Forecast for Clinic 4 (New clinic that will be lunched in July, 2023)"
   ]
  },
  {
   "cell_type": "code",
   "execution_count": 39,
   "metadata": {},
   "outputs": [
    {
     "name": "stdout",
     "output_type": "stream",
     "text": [
      "Total expected revenue for the new clinic in 2023: €611092.20\n",
      "Total expected unique patients for the new clinic in 2023: 802\n"
     ]
    }
   ],
   "source": [
    "# Forecast monthly revenues and unique patients for the new clinic starting in July 2023\n",
    "\n",
    "new_clinic_id = max(clinic_forecasts.keys()) + str(1)  # Generate a new clinic ID\n",
    "start_date = '2023-07-01'\n",
    "end_date = '2023-12-01'\n",
    "num_months = relativedelta.relativedelta(pd.to_datetime(end_date), pd.to_datetime(start_date)).months + 1\n",
    "new_clinic_forecast = pd.DataFrame({'year_month': pd.date_range(start=start_date, end=end_date, freq='MS')})\n",
    "new_clinic_forecast['forecast_patients'] = clinic_forecasts['Clinic 1']['forecast_patients'].mean()\n",
    "new_clinic_forecast['forecast_revenues'] = np.nan\n",
    "\n",
    "for month in range(1, num_months + 1):\n",
    "    new_clinic_forecast.loc[month - 1, 'forecast_revenues'] = sum([clinic_forecasts[clinic_id].loc[month - 1, 'forecast_revenues'] for clinic_id in clinic_forecasts.keys()]) / len(clinic_forecasts.keys())\n",
    "\n",
    "#print(f\"Expected monthly revenues for the new clinic:\\n{new_clinic_forecast[['year_month', 'forecast_revenues']]}\")\n",
    "#print(f\"Expected monthly unique patients for the new clinic:\\n{new_clinic_forecast[['year_month', 'forecast_patients']]}\")\n",
    "\n",
    "# Calculating the total revenue and unique patients for the new clinic\n",
    "total_new_clinic_4_revenue = new_clinic_forecast['forecast_revenues'].sum()\n",
    "total_new_clinic_4_patients = new_clinic_forecast['forecast_patients'].sum()\n",
    "\n",
    "print(f\"Total expected revenue for the new clinic in 2023: €{total_new_clinic_4_revenue:.2f}\")\n",
    "print(f\"Total expected unique patients for the new clinic in 2023: {int(total_new_clinic_4_patients)}\")\n"
   ]
  },
  {
   "attachments": {},
   "cell_type": "markdown",
   "metadata": {},
   "source": [
    "#### Estimated revenue to expect and the number of unique patients that will be acquired by the end of 2023"
   ]
  },
  {
   "cell_type": "code",
   "execution_count": 40,
   "metadata": {},
   "outputs": [
    {
     "name": "stdout",
     "output_type": "stream",
     "text": [
      "Total expected revenue for all clinics in 2023: €4074872.40\n",
      "Total expected unique patients for all clinics in 2023: 6117\n"
     ]
    }
   ],
   "source": [
    "# Calculating the total revenue and unique patients for all the clinics\n",
    "\n",
    "total_revenue = total_revenues + total_new_clinic_3_revenue + total_new_clinic_4_revenue\n",
    "total_patients = total_unique_patients + total_new_clinic_3_patients + total_new_clinic_4_patients\n",
    "\n",
    "\n",
    "print(f\"Total expected revenue for all clinics in 2023: €{total_revenue:.2f}\")\n",
    "print(f\"Total expected unique patients for all clinics in 2023: {int(total_patients)}\")"
   ]
  }
 ],
 "metadata": {
  "kernelspec": {
   "display_name": "nf_sql",
   "language": "python",
   "name": "python3"
  },
  "language_info": {
   "codemirror_mode": {
    "name": "ipython",
    "version": 3
   },
   "file_extension": ".py",
   "mimetype": "text/x-python",
   "name": "python",
   "nbconvert_exporter": "python",
   "pygments_lexer": "ipython3",
   "version": "3.9.16"
  },
  "orig_nbformat": 4
 },
 "nbformat": 4,
 "nbformat_minor": 2
}
